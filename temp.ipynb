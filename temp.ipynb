{
 "metadata": {
  "name": "",
  "signature": "sha256:86c7b1dfbfac59067f851ad0be98920c8f18e9c22697d0ac152d044306f52df6"
 },
 "nbformat": 3,
 "nbformat_minor": 0,
 "worksheets": [
  {
   "cells": [
    {
     "cell_type": "code",
     "collapsed": false,
     "input": [
      "import pandas as pd\n",
      "import numpy as np\n",
      "import scipy.io as sio"
     ],
     "language": "python",
     "metadata": {},
     "outputs": [],
     "prompt_number": 1
    },
    {
     "cell_type": "code",
     "collapsed": false,
     "input": [
      "data = sio.loadmat('train.mat')\n",
      "X = data['X']\n",
      "y = data['y']"
     ],
     "language": "python",
     "metadata": {},
     "outputs": [],
     "prompt_number": 2
    },
    {
     "cell_type": "code",
     "collapsed": false,
     "input": [
      "np.zeros((1,4))"
     ],
     "language": "python",
     "metadata": {},
     "outputs": [
      {
       "metadata": {},
       "output_type": "pyout",
       "prompt_number": 3,
       "text": [
        "array([[ 0.,  0.,  0.,  0.]])"
       ]
      }
     ],
     "prompt_number": 3
    },
    {
     "cell_type": "code",
     "collapsed": false,
     "input": [
      "a = np.random.randn(11,7)/np.sqrt(7)"
     ],
     "language": "python",
     "metadata": {},
     "outputs": [],
     "prompt_number": 4
    },
    {
     "cell_type": "code",
     "collapsed": false,
     "input": [
      "a.shape\n",
      "ones = np.ones((a.shape[0],1))\n",
      "ones"
     ],
     "language": "python",
     "metadata": {},
     "outputs": [
      {
       "metadata": {},
       "output_type": "pyout",
       "prompt_number": 5,
       "text": [
        "array([[ 1.],\n",
        "       [ 1.],\n",
        "       [ 1.],\n",
        "       [ 1.],\n",
        "       [ 1.],\n",
        "       [ 1.],\n",
        "       [ 1.],\n",
        "       [ 1.],\n",
        "       [ 1.],\n",
        "       [ 1.],\n",
        "       [ 1.]])"
       ]
      }
     ],
     "prompt_number": 5
    },
    {
     "cell_type": "code",
     "collapsed": false,
     "input": [
      "a.shape[0]"
     ],
     "language": "python",
     "metadata": {},
     "outputs": [
      {
       "metadata": {},
       "output_type": "pyout",
       "prompt_number": 6,
       "text": [
        "11"
       ]
      }
     ],
     "prompt_number": 6
    },
    {
     "cell_type": "code",
     "collapsed": true,
     "input": [
      "np.ones((2,1))"
     ],
     "language": "python",
     "metadata": {},
     "outputs": [
      {
       "metadata": {},
       "output_type": "pyout",
       "prompt_number": 7,
       "text": [
        "array([[ 1.],\n",
        "       [ 1.]])"
       ]
      }
     ],
     "prompt_number": 7
    },
    {
     "cell_type": "code",
     "collapsed": true,
     "input": [
      "np.hstack((ones,ones))"
     ],
     "language": "python",
     "metadata": {},
     "outputs": [
      {
       "metadata": {},
       "output_type": "pyout",
       "prompt_number": 8,
       "text": [
        "array([[ 1.,  1.],\n",
        "       [ 1.,  1.],\n",
        "       [ 1.,  1.],\n",
        "       [ 1.,  1.],\n",
        "       [ 1.,  1.],\n",
        "       [ 1.,  1.],\n",
        "       [ 1.,  1.],\n",
        "       [ 1.,  1.],\n",
        "       [ 1.,  1.],\n",
        "       [ 1.,  1.],\n",
        "       [ 1.,  1.]])"
       ]
      }
     ],
     "prompt_number": 8
    },
    {
     "cell_type": "code",
     "collapsed": false,
     "input": [
      "ones = np.ones((a.shape[0],1),2)\n"
     ],
     "language": "python",
     "metadata": {},
     "outputs": [
      {
       "ename": "TypeError",
       "evalue": "data type not understood",
       "output_type": "pyerr",
       "traceback": [
        "\u001b[0;31m---------------------------------------------------------------------------\u001b[0m\n\u001b[0;31mTypeError\u001b[0m                                 Traceback (most recent call last)",
        "\u001b[0;32m<ipython-input-9-4a23c41a1291>\u001b[0m in \u001b[0;36m<module>\u001b[0;34m()\u001b[0m\n\u001b[0;32m----> 1\u001b[0;31m \u001b[0mones\u001b[0m \u001b[0;34m=\u001b[0m \u001b[0mnp\u001b[0m\u001b[0;34m.\u001b[0m\u001b[0mones\u001b[0m\u001b[0;34m(\u001b[0m\u001b[0;34m(\u001b[0m\u001b[0ma\u001b[0m\u001b[0;34m.\u001b[0m\u001b[0mshape\u001b[0m\u001b[0;34m[\u001b[0m\u001b[0;36m0\u001b[0m\u001b[0;34m]\u001b[0m\u001b[0;34m,\u001b[0m\u001b[0;36m1\u001b[0m\u001b[0;34m)\u001b[0m\u001b[0;34m,\u001b[0m\u001b[0;36m2\u001b[0m\u001b[0;34m)\u001b[0m\u001b[0;34m\u001b[0m\u001b[0m\n\u001b[0m",
        "\u001b[0;32m/usr/lib/python2.7/dist-packages/numpy/core/numeric.pyc\u001b[0m in \u001b[0;36mones\u001b[0;34m(shape, dtype, order)\u001b[0m\n\u001b[1;32m    188\u001b[0m \u001b[0;34m\u001b[0m\u001b[0m\n\u001b[1;32m    189\u001b[0m     \"\"\"\n\u001b[0;32m--> 190\u001b[0;31m     \u001b[0ma\u001b[0m \u001b[0;34m=\u001b[0m \u001b[0mempty\u001b[0m\u001b[0;34m(\u001b[0m\u001b[0mshape\u001b[0m\u001b[0;34m,\u001b[0m \u001b[0mdtype\u001b[0m\u001b[0;34m,\u001b[0m \u001b[0morder\u001b[0m\u001b[0;34m)\u001b[0m\u001b[0;34m\u001b[0m\u001b[0m\n\u001b[0m\u001b[1;32m    191\u001b[0m     \u001b[0mmultiarray\u001b[0m\u001b[0;34m.\u001b[0m\u001b[0mcopyto\u001b[0m\u001b[0;34m(\u001b[0m\u001b[0ma\u001b[0m\u001b[0;34m,\u001b[0m \u001b[0;36m1\u001b[0m\u001b[0;34m,\u001b[0m \u001b[0mcasting\u001b[0m\u001b[0;34m=\u001b[0m\u001b[0;34m'unsafe'\u001b[0m\u001b[0;34m)\u001b[0m\u001b[0;34m\u001b[0m\u001b[0m\n\u001b[1;32m    192\u001b[0m     \u001b[0;32mreturn\u001b[0m \u001b[0ma\u001b[0m\u001b[0;34m\u001b[0m\u001b[0m\n",
        "\u001b[0;31mTypeError\u001b[0m: data type not understood"
       ]
      }
     ],
     "prompt_number": 9
    },
    {
     "cell_type": "code",
     "collapsed": false,
     "input": [
      "a\n",
      "ones"
     ],
     "language": "python",
     "metadata": {},
     "outputs": []
    },
    {
     "cell_type": "code",
     "collapsed": false,
     "input": [
      "a"
     ],
     "language": "python",
     "metadata": {},
     "outputs": []
    },
    {
     "cell_type": "code",
     "collapsed": false,
     "input": [
      "np.hstack((ones,a))"
     ],
     "language": "python",
     "metadata": {},
     "outputs": []
    },
    {
     "cell_type": "code",
     "collapsed": false,
     "input": [
      "# initial setup\n",
      "input_size = 3  \n",
      "hidden_size = 4  \n",
      "num_labels = 2  \n",
      "learning_rate = 1\n",
      "\n",
      "# randomly initialize a parameter array of the size of the full network's parameters\n",
      "params = (np.random.random(size=hidden_size * (input_size + 1) + num_labels * (hidden_size + 1)) - 0.5) * 0.25"
     ],
     "language": "python",
     "metadata": {},
     "outputs": []
    },
    {
     "cell_type": "code",
     "collapsed": false,
     "input": [
      "params"
     ],
     "language": "python",
     "metadata": {},
     "outputs": []
    },
    {
     "cell_type": "code",
     "collapsed": false,
     "input": [
      "a"
     ],
     "language": "python",
     "metadata": {},
     "outputs": []
    },
    {
     "cell_type": "code",
     "collapsed": false,
     "input": [
      "np.matrix(np.reshape(params[:hidden_size * (input_size + 1)], (hidden_size, (input_size + 1)))) "
     ],
     "language": "python",
     "metadata": {},
     "outputs": []
    },
    {
     "cell_type": "code",
     "collapsed": false,
     "input": [
      "np.reshape(params[:hidden_size * (input_size + 1)], (hidden_size, (input_size + 1)))"
     ],
     "language": "python",
     "metadata": {},
     "outputs": []
    },
    {
     "cell_type": "code",
     "collapsed": false,
     "input": [
      "g = np.array([[1],[2],[3]])\n",
      "np.exp(-g)"
     ],
     "language": "python",
     "metadata": {},
     "outputs": []
    },
    {
     "cell_type": "code",
     "collapsed": false,
     "input": [
      "f = np.array([[1,2,3,4,5],[6,7,8,9,20]])\n",
      "f.T"
     ],
     "language": "python",
     "metadata": {},
     "outputs": []
    },
    {
     "cell_type": "code",
     "collapsed": false,
     "input": [
      "r = np.dot(f.T,np.array([[1],[2]]))"
     ],
     "language": "python",
     "metadata": {},
     "outputs": []
    },
    {
     "cell_type": "code",
     "collapsed": false,
     "input": [
      "np.multiply(r,np.array([[1],[2],[3],[4],[5]]))"
     ],
     "language": "python",
     "metadata": {},
     "outputs": []
    },
    {
     "cell_type": "code",
     "collapsed": false,
     "input": [
      "r"
     ],
     "language": "python",
     "metadata": {},
     "outputs": []
    },
    {
     "cell_type": "code",
     "collapsed": false,
     "input": [
      "ones"
     ],
     "language": "python",
     "metadata": {},
     "outputs": [
      {
       "metadata": {},
       "output_type": "pyout",
       "prompt_number": 10,
       "text": [
        "array([[ 1.],\n",
        "       [ 1.],\n",
        "       [ 1.],\n",
        "       [ 1.],\n",
        "       [ 1.],\n",
        "       [ 1.],\n",
        "       [ 1.],\n",
        "       [ 1.],\n",
        "       [ 1.],\n",
        "       [ 1.],\n",
        "       [ 1.]])"
       ]
      }
     ],
     "prompt_number": 10
    },
    {
     "cell_type": "code",
     "collapsed": false,
     "input": [
      "a"
     ],
     "language": "python",
     "metadata": {},
     "outputs": [
      {
       "metadata": {},
       "output_type": "pyout",
       "prompt_number": 11,
       "text": [
        "array([[-0.10202705, -0.2665271 , -0.4673875 ,  0.01276206,  0.05984116,\n",
        "         0.64714296, -0.7555261 ],\n",
        "       [-0.66015293,  0.24290374, -0.91984269,  0.54849144,  1.14503247,\n",
        "        -0.26489335, -0.19001198],\n",
        "       [ 0.11465468, -0.03805156, -0.26557711,  0.37852076,  0.91878503,\n",
        "        -0.09857388,  0.17351587],\n",
        "       [ 0.1828384 ,  0.65809665, -0.04759867,  0.43626462,  0.3003781 ,\n",
        "        -0.15384478,  0.06402882],\n",
        "       [-0.14127834,  0.59049309, -0.08916744,  0.73102615,  0.13568463,\n",
        "        -0.45471411,  0.03845359],\n",
        "       [-0.31555975,  0.1991048 ,  0.12895574,  0.10073925,  0.42103583,\n",
        "        -0.19285458, -0.24421735],\n",
        "       [ 0.22507305,  0.60759141,  0.48246166, -0.51280402, -0.37818302,\n",
        "        -0.11393297,  0.04691701],\n",
        "       [-0.16872174, -0.30112693,  0.36962757,  0.16102171,  0.35008732,\n",
        "         0.25713297, -0.00359235],\n",
        "       [ 0.59136367,  0.32084287,  0.1153563 ,  0.14674676, -0.3705856 ,\n",
        "        -0.25596535, -0.07303754],\n",
        "       [-0.53276202, -0.16707038,  0.0969666 ,  0.35466569, -0.16279615,\n",
        "         0.62530802,  0.39882262],\n",
        "       [-0.00187159,  0.2843001 ,  0.02491022,  0.11804969, -0.30568012,\n",
        "         0.21162744, -0.10837601]])"
       ]
      }
     ],
     "prompt_number": 11
    },
    {
     "cell_type": "code",
     "collapsed": false,
     "input": [
      "a[:][0]"
     ],
     "language": "python",
     "metadata": {},
     "outputs": [
      {
       "metadata": {},
       "output_type": "pyout",
       "prompt_number": 13,
       "text": [
        "array([-0.10202705, -0.2665271 , -0.4673875 ,  0.01276206,  0.05984116,\n",
        "        0.64714296, -0.7555261 ])"
       ]
      }
     ],
     "prompt_number": 13
    },
    {
     "cell_type": "code",
     "collapsed": false,
     "input": [
      "a[:][:]"
     ],
     "language": "python",
     "metadata": {},
     "outputs": [
      {
       "metadata": {},
       "output_type": "pyout",
       "prompt_number": 15,
       "text": [
        "array([[-0.10202705, -0.2665271 , -0.4673875 ,  0.01276206,  0.05984116,\n",
        "         0.64714296, -0.7555261 ],\n",
        "       [-0.66015293,  0.24290374, -0.91984269,  0.54849144,  1.14503247,\n",
        "        -0.26489335, -0.19001198],\n",
        "       [ 0.11465468, -0.03805156, -0.26557711,  0.37852076,  0.91878503,\n",
        "        -0.09857388,  0.17351587],\n",
        "       [ 0.1828384 ,  0.65809665, -0.04759867,  0.43626462,  0.3003781 ,\n",
        "        -0.15384478,  0.06402882],\n",
        "       [-0.14127834,  0.59049309, -0.08916744,  0.73102615,  0.13568463,\n",
        "        -0.45471411,  0.03845359],\n",
        "       [-0.31555975,  0.1991048 ,  0.12895574,  0.10073925,  0.42103583,\n",
        "        -0.19285458, -0.24421735],\n",
        "       [ 0.22507305,  0.60759141,  0.48246166, -0.51280402, -0.37818302,\n",
        "        -0.11393297,  0.04691701],\n",
        "       [-0.16872174, -0.30112693,  0.36962757,  0.16102171,  0.35008732,\n",
        "         0.25713297, -0.00359235],\n",
        "       [ 0.59136367,  0.32084287,  0.1153563 ,  0.14674676, -0.3705856 ,\n",
        "        -0.25596535, -0.07303754],\n",
        "       [-0.53276202, -0.16707038,  0.0969666 ,  0.35466569, -0.16279615,\n",
        "         0.62530802,  0.39882262],\n",
        "       [-0.00187159,  0.2843001 ,  0.02491022,  0.11804969, -0.30568012,\n",
        "         0.21162744, -0.10837601]])"
       ]
      }
     ],
     "prompt_number": 15
    },
    {
     "cell_type": "code",
     "collapsed": false,
     "input": [
      "a[1][:]"
     ],
     "language": "python",
     "metadata": {},
     "outputs": [
      {
       "metadata": {},
       "output_type": "pyout",
       "prompt_number": 16,
       "text": [
        "array([-0.66015293,  0.24290374, -0.91984269,  0.54849144,  1.14503247,\n",
        "       -0.26489335, -0.19001198])"
       ]
      }
     ],
     "prompt_number": 16
    },
    {
     "cell_type": "code",
     "collapsed": false,
     "input": [
      "a[:][0]"
     ],
     "language": "python",
     "metadata": {},
     "outputs": [
      {
       "metadata": {},
       "output_type": "pyout",
       "prompt_number": 17,
       "text": [
        "array([-0.10202705, -0.2665271 , -0.4673875 ,  0.01276206,  0.05984116,\n",
        "        0.64714296, -0.7555261 ])"
       ]
      }
     ],
     "prompt_number": 17
    },
    {
     "cell_type": "code",
     "collapsed": false,
     "input": [
      "a[:,0]"
     ],
     "language": "python",
     "metadata": {},
     "outputs": [
      {
       "metadata": {},
       "output_type": "pyout",
       "prompt_number": 18,
       "text": [
        "array([-0.10202705, -0.66015293,  0.11465468,  0.1828384 , -0.14127834,\n",
        "       -0.31555975,  0.22507305, -0.16872174,  0.59136367, -0.53276202,\n",
        "       -0.00187159])"
       ]
      }
     ],
     "prompt_number": 18
    },
    {
     "cell_type": "code",
     "collapsed": false,
     "input": [
      "X = np.array([[1,34,23],[1,3,2],[1,3,2],[1,3,3],[1,5,1]])\n",
      "d = np.array([[2],[4],[3],[7]])\n",
      "theta = np.array([[2,4,8],[6,2,1],[3,8,1],[2,4,2]])"
     ],
     "language": "python",
     "metadata": {},
     "outputs": [],
     "prompt_number": 23
    },
    {
     "cell_type": "code",
     "collapsed": false,
     "input": [
      "np.multiply(theta[:,0][np.newaxis].T,(np.multiply(X[0][0],d)))"
     ],
     "language": "python",
     "metadata": {},
     "outputs": [
      {
       "metadata": {},
       "output_type": "pyout",
       "prompt_number": 26,
       "text": [
        "array([[ 4],\n",
        "       [24],\n",
        "       [ 9],\n",
        "       [14]])"
       ]
      }
     ],
     "prompt_number": 26
    },
    {
     "cell_type": "code",
     "collapsed": false,
     "input": [
      "g = np.multiply(X[0][0],d)\n",
      "j = np.array(g)\n",
      "k = np.zeros((4,3))\n",
      "k"
     ],
     "language": "python",
     "metadata": {},
     "outputs": [
      {
       "metadata": {},
       "output_type": "pyout",
       "prompt_number": 43,
       "text": [
        "array([[ 0.,  0.,  0.],\n",
        "       [ 0.,  0.,  0.],\n",
        "       [ 0.,  0.,  0.],\n",
        "       [ 0.,  0.,  0.]])"
       ]
      }
     ],
     "prompt_number": 43
    },
    {
     "cell_type": "code",
     "collapsed": false,
     "input": [
      "g"
     ],
     "language": "python",
     "metadata": {},
     "outputs": [
      {
       "metadata": {},
       "output_type": "pyout",
       "prompt_number": 28,
       "text": [
        "array([[2],\n",
        "       [4],\n",
        "       [3],\n",
        "       [7]])"
       ]
      }
     ],
     "prompt_number": 28
    },
    {
     "cell_type": "code",
     "collapsed": false,
     "input": [
      "j"
     ],
     "language": "python",
     "metadata": {},
     "outputs": [
      {
       "metadata": {},
       "output_type": "pyout",
       "prompt_number": 36,
       "text": [
        "array([[2],\n",
        "       [4],\n",
        "       [3],\n",
        "       [7]])"
       ]
      }
     ],
     "prompt_number": 36
    },
    {
     "cell_type": "code",
     "collapsed": false,
     "input": [
      "np.hstack((j,g))"
     ],
     "language": "python",
     "metadata": {},
     "outputs": [
      {
       "metadata": {},
       "output_type": "pyout",
       "prompt_number": 38,
       "text": [
        "array([[2, 2],\n",
        "       [4, 4],\n",
        "       [3, 3],\n",
        "       [7, 7]])"
       ]
      }
     ],
     "prompt_number": 38
    },
    {
     "cell_type": "code",
     "collapsed": false,
     "input": [
      "k[:,0]"
     ],
     "language": "python",
     "metadata": {},
     "outputs": [
      {
       "metadata": {},
       "output_type": "pyout",
       "prompt_number": 42,
       "text": [
        "array([ 0.,  0.,  0.,  0.])"
       ]
      }
     ],
     "prompt_number": 42
    },
    {
     "cell_type": "code",
     "collapsed": false,
     "input": [
      "col1=np.multiply(theta[:,0][np.newaxis].T,(np.multiply(X[0][0],d)))\n",
      "k = np.zeros((4,3))\n",
      "col1,k"
     ],
     "language": "python",
     "metadata": {},
     "outputs": [
      {
       "metadata": {},
       "output_type": "pyout",
       "prompt_number": 46,
       "text": [
        "(array([[ 4],\n",
        "        [24],\n",
        "        [ 9],\n",
        "        [14]]), array([[ 0.,  0.,  0.],\n",
        "        [ 0.,  0.,  0.],\n",
        "        [ 0.,  0.,  0.],\n",
        "        [ 0.,  0.,  0.]]))"
       ]
      }
     ],
     "prompt_number": 46
    },
    {
     "cell_type": "code",
     "collapsed": false,
     "input": [
      "k[:,0] = k[:,0]+np.squeeze(col1.reshape(1,4))"
     ],
     "language": "python",
     "metadata": {},
     "outputs": [],
     "prompt_number": 54
    },
    {
     "cell_type": "code",
     "collapsed": false,
     "input": [
      "col1\n"
     ],
     "language": "python",
     "metadata": {},
     "outputs": [
      {
       "metadata": {},
       "output_type": "pyout",
       "prompt_number": 51,
       "text": [
        "array([[ 4],\n",
        "       [24],\n",
        "       [ 9],\n",
        "       [14]])"
       ]
      }
     ],
     "prompt_number": 51
    },
    {
     "cell_type": "code",
     "collapsed": false,
     "input": [
      "np.squeeze(col1.reshape(1,4))"
     ],
     "language": "python",
     "metadata": {},
     "outputs": [
      {
       "metadata": {},
       "output_type": "pyout",
       "prompt_number": 53,
       "text": [
        "array([ 4, 24,  9, 14])"
       ]
      }
     ],
     "prompt_number": 53
    },
    {
     "cell_type": "code",
     "collapsed": false,
     "input": [
      "k"
     ],
     "language": "python",
     "metadata": {},
     "outputs": [
      {
       "metadata": {},
       "output_type": "pyout",
       "prompt_number": 55,
       "text": [
        "array([[  4.,   0.,   0.],\n",
        "       [ 24.,   0.,   0.],\n",
        "       [  9.,   0.,   0.],\n",
        "       [ 14.,   0.,   0.]])"
       ]
      }
     ],
     "prompt_number": 55
    },
    {
     "cell_type": "code",
     "collapsed": false,
     "input": [
      "np.squeeze(col1)"
     ],
     "language": "python",
     "metadata": {},
     "outputs": [
      {
       "metadata": {},
       "output_type": "pyout",
       "prompt_number": 56,
       "text": [
        "array([ 4, 24,  9, 14])"
       ]
      }
     ],
     "prompt_number": 56
    },
    {
     "cell_type": "code",
     "collapsed": false,
     "input": [
      "col1"
     ],
     "language": "python",
     "metadata": {},
     "outputs": [
      {
       "metadata": {},
       "output_type": "pyout",
       "prompt_number": 57,
       "text": [
        "array([[ 4],\n",
        "       [24],\n",
        "       [ 9],\n",
        "       [14]])"
       ]
      }
     ],
     "prompt_number": 57
    },
    {
     "cell_type": "code",
     "collapsed": false,
     "input": [
      "theta"
     ],
     "language": "python",
     "metadata": {},
     "outputs": [
      {
       "metadata": {},
       "output_type": "pyout",
       "prompt_number": 58,
       "text": [
        "array([[2, 4, 8],\n",
        "       [6, 2, 1],\n",
        "       [3, 8, 1],\n",
        "       [2, 4, 2]])"
       ]
      }
     ],
     "prompt_number": 58
    },
    {
     "cell_type": "code",
     "collapsed": false,
     "input": [
      "np.squeeze(theta,axis=0)"
     ],
     "language": "python",
     "metadata": {},
     "outputs": [
      {
       "ename": "ValueError",
       "evalue": "cannot select an axis to squeeze out which has size not equal to one",
       "output_type": "pyerr",
       "traceback": [
        "\u001b[0;31m---------------------------------------------------------------------------\u001b[0m\n\u001b[0;31mValueError\u001b[0m                                Traceback (most recent call last)",
        "\u001b[0;32m<ipython-input-61-8ed26e4e81dc>\u001b[0m in \u001b[0;36m<module>\u001b[0;34m()\u001b[0m\n\u001b[0;32m----> 1\u001b[0;31m \u001b[0mnp\u001b[0m\u001b[0;34m.\u001b[0m\u001b[0msqueeze\u001b[0m\u001b[0;34m(\u001b[0m\u001b[0mtheta\u001b[0m\u001b[0;34m,\u001b[0m\u001b[0maxis\u001b[0m\u001b[0;34m=\u001b[0m\u001b[0;36m0\u001b[0m\u001b[0;34m)\u001b[0m\u001b[0;34m\u001b[0m\u001b[0m\n\u001b[0m",
        "\u001b[0;32m/usr/lib/python2.7/dist-packages/numpy/core/fromnumeric.pyc\u001b[0m in \u001b[0;36msqueeze\u001b[0;34m(a, axis)\u001b[0m\n\u001b[1;32m   1199\u001b[0m     \u001b[0;32mtry\u001b[0m\u001b[0;34m:\u001b[0m\u001b[0;34m\u001b[0m\u001b[0m\n\u001b[1;32m   1200\u001b[0m         \u001b[0;31m# First try to use the new axis= parameter\u001b[0m\u001b[0;34m\u001b[0m\u001b[0;34m\u001b[0m\u001b[0m\n\u001b[0;32m-> 1201\u001b[0;31m         \u001b[0;32mreturn\u001b[0m \u001b[0msqueeze\u001b[0m\u001b[0;34m(\u001b[0m\u001b[0maxis\u001b[0m\u001b[0;34m=\u001b[0m\u001b[0maxis\u001b[0m\u001b[0;34m)\u001b[0m\u001b[0;34m\u001b[0m\u001b[0m\n\u001b[0m\u001b[1;32m   1202\u001b[0m     \u001b[0;32mexcept\u001b[0m \u001b[0mTypeError\u001b[0m\u001b[0;34m:\u001b[0m\u001b[0;34m\u001b[0m\u001b[0m\n\u001b[1;32m   1203\u001b[0m         \u001b[0;31m# For backwards compatibility\u001b[0m\u001b[0;34m\u001b[0m\u001b[0;34m\u001b[0m\u001b[0m\n",
        "\u001b[0;31mValueError\u001b[0m: cannot select an axis to squeeze out which has size not equal to one"
       ]
      }
     ],
     "prompt_number": 61
    },
    {
     "cell_type": "code",
     "collapsed": false,
     "input": [
      "np.concatenate((np.ravel(theta),np.ravel(theta)))"
     ],
     "language": "python",
     "metadata": {},
     "outputs": [
      {
       "metadata": {},
       "output_type": "pyout",
       "prompt_number": 66,
       "text": [
        "array([2, 4, 8, 6, 2, 1, 3, 8, 1, 2, 4, 2, 2, 4, 8, 6, 2, 1, 3, 8, 1, 2, 4,\n",
        "       2])"
       ]
      }
     ],
     "prompt_number": 66
    },
    {
     "cell_type": "code",
     "collapsed": false,
     "input": [
      "data2= sio.loadmat('test.mat')\n",
      "data2"
     ],
     "language": "python",
     "metadata": {},
     "outputs": [
      {
       "metadata": {},
       "output_type": "pyout",
       "prompt_number": 67,
       "text": [
        "{'X': array([[ 60,  60,  60,  85,  85,  85],\n",
        "        [100,  77,  77, 128, 128,  90],\n",
        "        [ 65,  95,  75,  55,  55,  85],\n",
        "        ..., \n",
        "        [ 60,  55, 145,  75, 150,  40],\n",
        "        [100,  70,  70,  65,  65,  45],\n",
        "        [ 75, 103,  80,  70,  80,  92]]),\n",
        " '__globals__': [],\n",
        " '__header__': 'MATLAB 5.0 MAT-file Platform: posix, Created on: Tue Mar 14 01:45:08 2017',\n",
        " '__version__': '1.0',\n",
        " 'desc': array([u'HP     ', u'Attack ', u'Defence', u'Sp.Atk ', u'Sp.Def ',\n",
        "        u'Speed  '], \n",
        "       dtype='<U7'),\n",
        " 'y': array([[ 2],\n",
        "        [ 7],\n",
        "        [12],\n",
        "        [16],\n",
        "        [18],\n",
        "        [12],\n",
        "        [16],\n",
        "        [15],\n",
        "        [ 7],\n",
        "        [16],\n",
        "        [12],\n",
        "        [12],\n",
        "        [10],\n",
        "        [14],\n",
        "        [16],\n",
        "        [14],\n",
        "        [17],\n",
        "        [10],\n",
        "        [ 4],\n",
        "        [ 3],\n",
        "        [ 4],\n",
        "        [ 7],\n",
        "        [17],\n",
        "        [ 8],\n",
        "        [ 7],\n",
        "        [16],\n",
        "        [ 9],\n",
        "        [ 9],\n",
        "        [12],\n",
        "        [ 8],\n",
        "        [ 9],\n",
        "        [18],\n",
        "        [ 5],\n",
        "        [10],\n",
        "        [ 2],\n",
        "        [ 5],\n",
        "        [ 8],\n",
        "        [17],\n",
        "        [ 7],\n",
        "        [17],\n",
        "        [16],\n",
        "        [ 5],\n",
        "        [ 7],\n",
        "        [14],\n",
        "        [ 3],\n",
        "        [ 9],\n",
        "        [11],\n",
        "        [12],\n",
        "        [11],\n",
        "        [ 7],\n",
        "        [11],\n",
        "        [11],\n",
        "        [14],\n",
        "        [ 7],\n",
        "        [12],\n",
        "        [12],\n",
        "        [10],\n",
        "        [ 8],\n",
        "        [12],\n",
        "        [17],\n",
        "        [ 6],\n",
        "        [13],\n",
        "        [ 8],\n",
        "        [ 3],\n",
        "        [ 4],\n",
        "        [ 7],\n",
        "        [ 9],\n",
        "        [18],\n",
        "        [16],\n",
        "        [14],\n",
        "        [ 7],\n",
        "        [ 9],\n",
        "        [ 5],\n",
        "        [13],\n",
        "        [12],\n",
        "        [ 7],\n",
        "        [ 2],\n",
        "        [16],\n",
        "        [ 4],\n",
        "        [17],\n",
        "        [ 5],\n",
        "        [ 2],\n",
        "        [14],\n",
        "        [16],\n",
        "        [10],\n",
        "        [ 4],\n",
        "        [17],\n",
        "        [ 5],\n",
        "        [16],\n",
        "        [17],\n",
        "        [ 7],\n",
        "        [16],\n",
        "        [ 8],\n",
        "        [ 7],\n",
        "        [16],\n",
        "        [ 9],\n",
        "        [ 8],\n",
        "        [17],\n",
        "        [14],\n",
        "        [17],\n",
        "        [18],\n",
        "        [13],\n",
        "        [16],\n",
        "        [12],\n",
        "        [ 9],\n",
        "        [ 6],\n",
        "        [ 9],\n",
        "        [11],\n",
        "        [ 8],\n",
        "        [ 8],\n",
        "        [17],\n",
        "        [13],\n",
        "        [ 9],\n",
        "        [16],\n",
        "        [12],\n",
        "        [ 5],\n",
        "        [ 7],\n",
        "        [12],\n",
        "        [ 7],\n",
        "        [12],\n",
        "        [12],\n",
        "        [ 8],\n",
        "        [ 2],\n",
        "        [15],\n",
        "        [ 7],\n",
        "        [ 3],\n",
        "        [12],\n",
        "        [ 8],\n",
        "        [ 6],\n",
        "        [ 8],\n",
        "        [ 2],\n",
        "        [12],\n",
        "        [ 8],\n",
        "        [11],\n",
        "        [ 5],\n",
        "        [11],\n",
        "        [17],\n",
        "        [ 4],\n",
        "        [16],\n",
        "        [ 4],\n",
        "        [ 5],\n",
        "        [12],\n",
        "        [ 7],\n",
        "        [ 7],\n",
        "        [ 7],\n",
        "        [16],\n",
        "        [13],\n",
        "        [18],\n",
        "        [ 7],\n",
        "        [ 9],\n",
        "        [ 9],\n",
        "        [10],\n",
        "        [12],\n",
        "        [18],\n",
        "        [14],\n",
        "        [ 9],\n",
        "        [ 9],\n",
        "        [12],\n",
        "        [16],\n",
        "        [ 4],\n",
        "        [12],\n",
        "        [14],\n",
        "        [14],\n",
        "        [13],\n",
        "        [17],\n",
        "        [12],\n",
        "        [12],\n",
        "        [12],\n",
        "        [13],\n",
        "        [ 6],\n",
        "        [17],\n",
        "        [ 7],\n",
        "        [ 7],\n",
        "        [ 7],\n",
        "        [12],\n",
        "        [13],\n",
        "        [ 6],\n",
        "        [15],\n",
        "        [17],\n",
        "        [ 9],\n",
        "        [16],\n",
        "        [12],\n",
        "        [ 3],\n",
        "        [17],\n",
        "        [18],\n",
        "        [12],\n",
        "        [17],\n",
        "        [10],\n",
        "        [ 5],\n",
        "        [12],\n",
        "        [16],\n",
        "        [ 8],\n",
        "        [15],\n",
        "        [15],\n",
        "        [10],\n",
        "        [12],\n",
        "        [14],\n",
        "        [ 5],\n",
        "        [ 3],\n",
        "        [ 6],\n",
        "        [15],\n",
        "        [ 3],\n",
        "        [ 7],\n",
        "        [ 2],\n",
        "        [12],\n",
        "        [11],\n",
        "        [18],\n",
        "        [ 7],\n",
        "        [ 6],\n",
        "        [ 7],\n",
        "        [12],\n",
        "        [10],\n",
        "        [14],\n",
        "        [ 4],\n",
        "        [17],\n",
        "        [ 7],\n",
        "        [ 8],\n",
        "        [12],\n",
        "        [16],\n",
        "        [18],\n",
        "        [14],\n",
        "        [ 7],\n",
        "        [17]])}"
       ]
      }
     ],
     "prompt_number": 67
    },
    {
     "cell_type": "code",
     "collapsed": false,
     "input": [
      "t = np.array([[1,2,3,4],[4,5,5,7],[6,6,7,5]])\n",
      "max(t)"
     ],
     "language": "python",
     "metadata": {},
     "outputs": [
      {
       "ename": "ValueError",
       "evalue": "The truth value of an array with more than one element is ambiguous. Use a.any() or a.all()",
       "output_type": "pyerr",
       "traceback": [
        "\u001b[0;31m---------------------------------------------------------------------------\u001b[0m\n\u001b[0;31mValueError\u001b[0m                                Traceback (most recent call last)",
        "\u001b[0;32m<ipython-input-73-00222ecca983>\u001b[0m in \u001b[0;36m<module>\u001b[0;34m()\u001b[0m\n\u001b[1;32m      1\u001b[0m \u001b[0mt\u001b[0m \u001b[0;34m=\u001b[0m \u001b[0mnp\u001b[0m\u001b[0;34m.\u001b[0m\u001b[0marray\u001b[0m\u001b[0;34m(\u001b[0m\u001b[0;34m[\u001b[0m\u001b[0;34m[\u001b[0m\u001b[0;36m1\u001b[0m\u001b[0;34m,\u001b[0m\u001b[0;36m2\u001b[0m\u001b[0;34m,\u001b[0m\u001b[0;36m3\u001b[0m\u001b[0;34m,\u001b[0m\u001b[0;36m4\u001b[0m\u001b[0;34m]\u001b[0m\u001b[0;34m,\u001b[0m\u001b[0;34m[\u001b[0m\u001b[0;36m4\u001b[0m\u001b[0;34m,\u001b[0m\u001b[0;36m5\u001b[0m\u001b[0;34m,\u001b[0m\u001b[0;36m5\u001b[0m\u001b[0;34m,\u001b[0m\u001b[0;36m7\u001b[0m\u001b[0;34m]\u001b[0m\u001b[0;34m,\u001b[0m\u001b[0;34m[\u001b[0m\u001b[0;36m6\u001b[0m\u001b[0;34m,\u001b[0m\u001b[0;36m6\u001b[0m\u001b[0;34m,\u001b[0m\u001b[0;36m7\u001b[0m\u001b[0;34m,\u001b[0m\u001b[0;36m5\u001b[0m\u001b[0;34m]\u001b[0m\u001b[0;34m]\u001b[0m\u001b[0;34m)\u001b[0m\u001b[0;34m\u001b[0m\u001b[0m\n\u001b[0;32m----> 2\u001b[0;31m \u001b[0mmax\u001b[0m\u001b[0;34m(\u001b[0m\u001b[0mt\u001b[0m\u001b[0;34m)\u001b[0m\u001b[0;34m\u001b[0m\u001b[0m\n\u001b[0m",
        "\u001b[0;31mValueError\u001b[0m: The truth value of an array with more than one element is ambiguous. Use a.any() or a.all()"
       ]
      }
     ],
     "prompt_number": 73
    },
    {
     "cell_type": "code",
     "collapsed": false,
     "input": [
      "np.max(t)"
     ],
     "language": "python",
     "metadata": {},
     "outputs": [
      {
       "metadata": {},
       "output_type": "pyout",
       "prompt_number": 69,
       "text": [
        "4"
       ]
      }
     ],
     "prompt_number": 69
    },
    {
     "cell_type": "code",
     "collapsed": false,
     "input": [
      "np.index_exp(4)"
     ],
     "language": "python",
     "metadata": {},
     "outputs": [
      {
       "ename": "TypeError",
       "evalue": "'IndexExpression' object is not callable",
       "output_type": "pyerr",
       "traceback": [
        "\u001b[0;31m---------------------------------------------------------------------------\u001b[0m\n\u001b[0;31mTypeError\u001b[0m                                 Traceback (most recent call last)",
        "\u001b[0;32m<ipython-input-70-ac616eae67f2>\u001b[0m in \u001b[0;36m<module>\u001b[0;34m()\u001b[0m\n\u001b[0;32m----> 1\u001b[0;31m \u001b[0mnp\u001b[0m\u001b[0;34m.\u001b[0m\u001b[0mindex_exp\u001b[0m\u001b[0;34m(\u001b[0m\u001b[0;36m4\u001b[0m\u001b[0;34m)\u001b[0m\u001b[0;34m\u001b[0m\u001b[0m\n\u001b[0m",
        "\u001b[0;31mTypeError\u001b[0m: 'IndexExpression' object is not callable"
       ]
      }
     ],
     "prompt_number": 70
    },
    {
     "cell_type": "code",
     "collapsed": false,
     "input": [
      "np.argmax(t)"
     ],
     "language": "python",
     "metadata": {},
     "outputs": [
      {
       "metadata": {},
       "output_type": "pyout",
       "prompt_number": 71,
       "text": [
        "3"
       ]
      }
     ],
     "prompt_number": 71
    },
    {
     "cell_type": "code",
     "collapsed": false,
     "input": [
      "t = np.array([[1,2,3,4],[4,5,5,7],[6,6,7,5]])\n"
     ],
     "language": "python",
     "metadata": {},
     "outputs": [],
     "prompt_number": 74
    },
    {
     "cell_type": "code",
     "collapsed": false,
     "input": [
      "np.argmax(t)"
     ],
     "language": "python",
     "metadata": {},
     "outputs": [
      {
       "metadata": {},
       "output_type": "pyout",
       "prompt_number": 75,
       "text": [
        "7"
       ]
      }
     ],
     "prompt_number": 75
    },
    {
     "cell_type": "code",
     "collapsed": false,
     "input": [
      "np.argmax(t,axis=1)"
     ],
     "language": "python",
     "metadata": {},
     "outputs": [
      {
       "metadata": {},
       "output_type": "pyout",
       "prompt_number": 100,
       "text": [
        "array([3, 3, 2])"
       ]
      }
     ],
     "prompt_number": 100
    },
    {
     "cell_type": "code",
     "collapsed": false,
     "input": [
      "col1"
     ],
     "language": "python",
     "metadata": {},
     "outputs": [
      {
       "metadata": {},
       "output_type": "pyout",
       "prompt_number": 77,
       "text": [
        "array([[ 4],\n",
        "       [24],\n",
        "       [ 9],\n",
        "       [14]])"
       ]
      }
     ],
     "prompt_number": 77
    },
    {
     "cell_type": "code",
     "collapsed": false,
     "input": [
      "col1[1:]"
     ],
     "language": "python",
     "metadata": {},
     "outputs": [
      {
       "metadata": {},
       "output_type": "pyout",
       "prompt_number": 78,
       "text": [
        "array([[24],\n",
        "       [ 9],\n",
        "       [14]])"
       ]
      }
     ],
     "prompt_number": 78
    },
    {
     "cell_type": "code",
     "collapsed": false,
     "input": [
      "data2= sio.loadmat('train.mat')\n",
      "data2"
     ],
     "language": "python",
     "metadata": {},
     "outputs": [
      {
       "metadata": {},
       "output_type": "pyout",
       "prompt_number": 82,
       "text": [
        "{'X': array([[ 60,  65,  60, 130,  75, 110],\n",
        "        [ 95,  95,  85, 125,  65,  55],\n",
        "        [ 64, 115,  65,  83,  63,  65],\n",
        "        ..., \n",
        "        [ 95, 117,  80,  65,  70,  92],\n",
        "        [ 50,  35,  55,  25,  25,  15],\n",
        "        [ 55,  75,  50,  40,  40,  80]]),\n",
        " '__globals__': [],\n",
        " '__header__': 'MATLAB 5.0 MAT-file Platform: posix, Created on: Fri Mar 17 23:18:51 2017',\n",
        " '__version__': '1.0',\n",
        " 'desc': array([u'HP     ', u'Attack ', u'Defence', u'Sp.Atk ', u'Sp.Def ',\n",
        "        u'Speed  '], \n",
        "       dtype='<U7'),\n",
        " 'y': array([[ 2],\n",
        "        [16],\n",
        "        [ 2],\n",
        "        [12],\n",
        "        [11],\n",
        "        [ 6],\n",
        "        [16],\n",
        "        [12],\n",
        "        [ 7],\n",
        "        [10],\n",
        "        [ 9],\n",
        "        [17],\n",
        "        [16],\n",
        "        [12],\n",
        "        [14],\n",
        "        [ 5],\n",
        "        [ 8],\n",
        "        [ 7],\n",
        "        [ 5],\n",
        "        [ 7],\n",
        "        [16],\n",
        "        [ 7],\n",
        "        [ 5],\n",
        "        [ 8],\n",
        "        [16],\n",
        "        [17],\n",
        "        [ 7],\n",
        "        [ 8],\n",
        "        [18],\n",
        "        [ 8],\n",
        "        [16],\n",
        "        [ 7],\n",
        "        [ 8],\n",
        "        [16],\n",
        "        [16],\n",
        "        [10],\n",
        "        [ 7],\n",
        "        [12],\n",
        "        [15],\n",
        "        [13],\n",
        "        [ 6],\n",
        "        [12],\n",
        "        [14],\n",
        "        [12],\n",
        "        [18],\n",
        "        [16],\n",
        "        [12],\n",
        "        [ 9],\n",
        "        [ 8],\n",
        "        [ 9],\n",
        "        [17],\n",
        "        [ 7],\n",
        "        [ 3],\n",
        "        [ 5],\n",
        "        [12],\n",
        "        [12],\n",
        "        [13],\n",
        "        [12],\n",
        "        [10],\n",
        "        [17],\n",
        "        [ 2],\n",
        "        [14],\n",
        "        [ 9],\n",
        "        [ 7],\n",
        "        [12],\n",
        "        [16],\n",
        "        [12],\n",
        "        [12],\n",
        "        [17],\n",
        "        [12],\n",
        "        [ 7],\n",
        "        [ 4],\n",
        "        [ 7],\n",
        "        [16],\n",
        "        [17],\n",
        "        [ 6],\n",
        "        [10],\n",
        "        [ 9],\n",
        "        [ 4],\n",
        "        [ 9],\n",
        "        [ 7],\n",
        "        [12],\n",
        "        [17],\n",
        "        [ 4],\n",
        "        [17],\n",
        "        [ 9],\n",
        "        [ 5],\n",
        "        [18],\n",
        "        [ 5],\n",
        "        [ 5],\n",
        "        [11],\n",
        "        [12],\n",
        "        [ 7],\n",
        "        [18],\n",
        "        [13],\n",
        "        [ 9],\n",
        "        [17],\n",
        "        [ 7],\n",
        "        [12],\n",
        "        [12],\n",
        "        [ 7],\n",
        "        [14],\n",
        "        [ 5],\n",
        "        [17],\n",
        "        [ 7],\n",
        "        [13],\n",
        "        [ 4],\n",
        "        [17],\n",
        "        [12],\n",
        "        [11],\n",
        "        [12],\n",
        "        [12],\n",
        "        [10],\n",
        "        [ 9],\n",
        "        [ 8],\n",
        "        [17],\n",
        "        [10],\n",
        "        [ 7],\n",
        "        [ 5],\n",
        "        [17],\n",
        "        [ 7],\n",
        "        [ 7],\n",
        "        [ 2],\n",
        "        [ 3],\n",
        "        [12],\n",
        "        [ 9],\n",
        "        [14],\n",
        "        [13],\n",
        "        [ 7],\n",
        "        [ 5],\n",
        "        [ 4],\n",
        "        [16],\n",
        "        [ 5],\n",
        "        [ 7],\n",
        "        [ 7],\n",
        "        [11],\n",
        "        [13],\n",
        "        [17],\n",
        "        [ 5],\n",
        "        [ 7],\n",
        "        [10],\n",
        "        [ 3],\n",
        "        [ 6],\n",
        "        [10],\n",
        "        [ 5],\n",
        "        [12],\n",
        "        [ 2],\n",
        "        [16],\n",
        "        [18],\n",
        "        [ 3],\n",
        "        [12],\n",
        "        [ 2],\n",
        "        [ 8],\n",
        "        [ 5],\n",
        "        [ 8],\n",
        "        [12],\n",
        "        [ 7],\n",
        "        [17],\n",
        "        [ 3],\n",
        "        [ 8],\n",
        "        [12],\n",
        "        [ 3],\n",
        "        [ 9],\n",
        "        [ 4],\n",
        "        [18],\n",
        "        [13],\n",
        "        [ 7],\n",
        "        [15],\n",
        "        [15],\n",
        "        [ 8],\n",
        "        [ 8],\n",
        "        [ 7],\n",
        "        [13],\n",
        "        [ 9],\n",
        "        [ 3],\n",
        "        [ 9],\n",
        "        [16],\n",
        "        [ 3],\n",
        "        [ 7],\n",
        "        [12],\n",
        "        [16],\n",
        "        [16],\n",
        "        [14],\n",
        "        [11],\n",
        "        [16],\n",
        "        [12],\n",
        "        [14],\n",
        "        [16],\n",
        "        [16],\n",
        "        [ 7],\n",
        "        [10],\n",
        "        [14],\n",
        "        [12],\n",
        "        [12],\n",
        "        [ 3],\n",
        "        [ 5],\n",
        "        [ 4],\n",
        "        [ 8],\n",
        "        [16],\n",
        "        [ 4],\n",
        "        [ 2],\n",
        "        [ 9],\n",
        "        [12],\n",
        "        [12],\n",
        "        [12],\n",
        "        [12],\n",
        "        [18],\n",
        "        [16],\n",
        "        [ 7],\n",
        "        [16],\n",
        "        [ 5],\n",
        "        [ 7],\n",
        "        [ 7],\n",
        "        [11],\n",
        "        [12],\n",
        "        [16],\n",
        "        [ 7],\n",
        "        [ 6],\n",
        "        [ 9],\n",
        "        [16],\n",
        "        [ 3],\n",
        "        [16],\n",
        "        [ 8],\n",
        "        [ 5],\n",
        "        [14],\n",
        "        [14],\n",
        "        [11],\n",
        "        [17],\n",
        "        [18],\n",
        "        [17],\n",
        "        [12],\n",
        "        [ 7],\n",
        "        [ 9],\n",
        "        [ 2],\n",
        "        [ 7],\n",
        "        [12],\n",
        "        [17],\n",
        "        [14],\n",
        "        [ 4],\n",
        "        [ 7],\n",
        "        [ 8],\n",
        "        [10],\n",
        "        [ 2],\n",
        "        [ 8],\n",
        "        [16],\n",
        "        [ 7],\n",
        "        [17],\n",
        "        [11],\n",
        "        [ 5],\n",
        "        [12],\n",
        "        [16],\n",
        "        [17],\n",
        "        [14],\n",
        "        [16],\n",
        "        [ 8],\n",
        "        [ 9],\n",
        "        [ 3],\n",
        "        [ 6],\n",
        "        [ 8],\n",
        "        [17],\n",
        "        [12],\n",
        "        [ 4],\n",
        "        [14],\n",
        "        [ 9],\n",
        "        [14],\n",
        "        [ 4],\n",
        "        [16],\n",
        "        [15],\n",
        "        [13],\n",
        "        [17],\n",
        "        [18],\n",
        "        [12],\n",
        "        [16],\n",
        "        [14],\n",
        "        [ 3],\n",
        "        [18],\n",
        "        [13],\n",
        "        [ 8],\n",
        "        [ 7],\n",
        "        [ 3],\n",
        "        [17],\n",
        "        [16],\n",
        "        [12],\n",
        "        [12],\n",
        "        [16],\n",
        "        [ 4],\n",
        "        [ 4],\n",
        "        [ 6],\n",
        "        [11],\n",
        "        [17],\n",
        "        [ 6],\n",
        "        [ 7],\n",
        "        [ 2],\n",
        "        [ 7],\n",
        "        [15],\n",
        "        [12],\n",
        "        [17],\n",
        "        [ 9],\n",
        "        [13],\n",
        "        [12],\n",
        "        [ 6],\n",
        "        [ 6],\n",
        "        [ 4],\n",
        "        [ 7],\n",
        "        [12],\n",
        "        [ 7],\n",
        "        [ 7],\n",
        "        [14],\n",
        "        [11],\n",
        "        [ 5],\n",
        "        [ 8],\n",
        "        [ 5],\n",
        "        [ 7],\n",
        "        [ 6],\n",
        "        [12],\n",
        "        [10],\n",
        "        [10],\n",
        "        [12],\n",
        "        [16],\n",
        "        [18],\n",
        "        [ 7],\n",
        "        [18],\n",
        "        [12],\n",
        "        [ 7],\n",
        "        [17],\n",
        "        [ 7],\n",
        "        [ 9],\n",
        "        [ 4],\n",
        "        [ 9],\n",
        "        [ 7],\n",
        "        [ 2],\n",
        "        [11],\n",
        "        [13],\n",
        "        [ 7],\n",
        "        [ 4],\n",
        "        [ 4],\n",
        "        [12],\n",
        "        [ 8],\n",
        "        [12],\n",
        "        [16],\n",
        "        [12],\n",
        "        [15],\n",
        "        [ 8],\n",
        "        [17],\n",
        "        [10],\n",
        "        [ 7],\n",
        "        [12],\n",
        "        [ 5],\n",
        "        [ 8],\n",
        "        [17],\n",
        "        [12],\n",
        "        [ 7],\n",
        "        [15],\n",
        "        [ 8],\n",
        "        [ 2],\n",
        "        [17],\n",
        "        [12],\n",
        "        [18],\n",
        "        [ 5],\n",
        "        [16],\n",
        "        [12],\n",
        "        [12],\n",
        "        [11],\n",
        "        [18],\n",
        "        [11],\n",
        "        [16],\n",
        "        [15],\n",
        "        [16],\n",
        "        [ 6],\n",
        "        [12],\n",
        "        [ 6],\n",
        "        [17],\n",
        "        [17],\n",
        "        [12],\n",
        "        [ 9],\n",
        "        [13],\n",
        "        [ 9],\n",
        "        [16],\n",
        "        [16],\n",
        "        [18],\n",
        "        [11],\n",
        "        [18],\n",
        "        [13],\n",
        "        [17],\n",
        "        [14],\n",
        "        [12],\n",
        "        [14],\n",
        "        [10],\n",
        "        [ 8],\n",
        "        [14],\n",
        "        [17],\n",
        "        [17],\n",
        "        [14],\n",
        "        [16],\n",
        "        [ 9],\n",
        "        [ 5],\n",
        "        [ 5],\n",
        "        [12],\n",
        "        [ 9],\n",
        "        [ 7],\n",
        "        [14],\n",
        "        [17],\n",
        "        [17],\n",
        "        [ 4],\n",
        "        [14],\n",
        "        [ 4],\n",
        "        [17],\n",
        "        [ 9],\n",
        "        [15],\n",
        "        [16],\n",
        "        [12],\n",
        "        [ 8],\n",
        "        [11],\n",
        "        [ 3],\n",
        "        [18],\n",
        "        [10],\n",
        "        [14],\n",
        "        [18],\n",
        "        [13],\n",
        "        [ 8],\n",
        "        [14],\n",
        "        [ 8],\n",
        "        [ 6],\n",
        "        [ 9],\n",
        "        [12],\n",
        "        [12],\n",
        "        [ 2],\n",
        "        [ 9],\n",
        "        [ 7],\n",
        "        [17],\n",
        "        [ 7],\n",
        "        [12],\n",
        "        [12],\n",
        "        [12],\n",
        "        [16],\n",
        "        [17],\n",
        "        [ 7],\n",
        "        [12],\n",
        "        [ 7],\n",
        "        [ 9],\n",
        "        [13],\n",
        "        [18],\n",
        "        [16],\n",
        "        [10],\n",
        "        [10],\n",
        "        [ 8],\n",
        "        [12],\n",
        "        [17],\n",
        "        [ 7],\n",
        "        [ 3],\n",
        "        [17],\n",
        "        [ 9],\n",
        "        [ 7],\n",
        "        [ 8],\n",
        "        [ 6],\n",
        "        [ 7],\n",
        "        [17],\n",
        "        [ 9],\n",
        "        [ 7],\n",
        "        [17],\n",
        "        [ 6],\n",
        "        [10],\n",
        "        [11],\n",
        "        [ 8],\n",
        "        [ 7],\n",
        "        [ 2],\n",
        "        [15],\n",
        "        [16],\n",
        "        [14],\n",
        "        [11],\n",
        "        [ 8],\n",
        "        [15],\n",
        "        [ 5],\n",
        "        [ 9],\n",
        "        [ 7],\n",
        "        [12],\n",
        "        [14],\n",
        "        [11],\n",
        "        [16],\n",
        "        [ 7],\n",
        "        [ 7],\n",
        "        [14],\n",
        "        [12],\n",
        "        [ 2],\n",
        "        [ 2],\n",
        "        [16],\n",
        "        [12],\n",
        "        [12],\n",
        "        [10],\n",
        "        [12],\n",
        "        [ 7],\n",
        "        [18],\n",
        "        [14],\n",
        "        [13],\n",
        "        [18],\n",
        "        [17],\n",
        "        [ 7]])}"
       ]
      }
     ],
     "prompt_number": 82
    },
    {
     "cell_type": "code",
     "collapsed": false,
     "input": [
      "len(data2['y']),len(data2['X'])"
     ],
     "language": "python",
     "metadata": {},
     "outputs": [
      {
       "metadata": {},
       "output_type": "pyout",
       "prompt_number": 83,
       "text": [
        "(497, 497)"
       ]
      }
     ],
     "prompt_number": 83
    },
    {
     "cell_type": "code",
     "collapsed": false,
     "input": [
      "data2= sio.loadmat('test.mat')\n",
      "data2"
     ],
     "language": "python",
     "metadata": {},
     "outputs": [
      {
       "metadata": {},
       "output_type": "pyout",
       "prompt_number": 119,
       "text": [
        "{'X': array([[ 0.54268586,  0.11754528,  0.46149103, ...,  0.3799701 ,\n",
        "          0.22143765,  0.15835575],\n",
        "        [-0.25731414, -0.11867519, -0.22600897, ..., -0.21262249,\n",
        "         -0.00244294, -0.07497758],\n",
        "        [-0.24678782, -0.03993503, -0.13225897, ..., -0.21262249,\n",
        "         -0.11438324, -0.14164425],\n",
        "        ..., \n",
        "        [ 0.09005428, -0.02024999, -0.22600897, ...,  0.08367381,\n",
        "          0.51994512,  0.02502242],\n",
        "        [ 0.19531744,  0.15691536,  0.05524103, ...,  0.08367381,\n",
        "          0.18412422, -0.10831091],\n",
        "        [ 0.33215955,  0.11754528, -0.00725897, ...,  0.15774788,\n",
        "          0.33337795,  0.12502242]]),\n",
        " '__globals__': [],\n",
        " '__header__': 'MATLAB 5.0 MAT-file Platform: posix, Created on: Sat Mar 18 01:24:47 2017',\n",
        " '__version__': '1.0',\n",
        " 'desc': array([u'Total  ', u'HP     ', u'Attack ', u'Defence', u'Sp.Atk ',\n",
        "        u'Sp.Def ', u'Speed  '], \n",
        "       dtype='<U7'),\n",
        " 'y': array([[11],\n",
        "        [18],\n",
        "        [17],\n",
        "        [16],\n",
        "        [12],\n",
        "        [ 9],\n",
        "        [16],\n",
        "        [ 8],\n",
        "        [12],\n",
        "        [ 8],\n",
        "        [18],\n",
        "        [ 5],\n",
        "        [11],\n",
        "        [17],\n",
        "        [12],\n",
        "        [10],\n",
        "        [11],\n",
        "        [ 2],\n",
        "        [ 8],\n",
        "        [17],\n",
        "        [ 9],\n",
        "        [18],\n",
        "        [12],\n",
        "        [10],\n",
        "        [12],\n",
        "        [ 7],\n",
        "        [ 5],\n",
        "        [ 3],\n",
        "        [10],\n",
        "        [16],\n",
        "        [16],\n",
        "        [ 5],\n",
        "        [17],\n",
        "        [13],\n",
        "        [16],\n",
        "        [18],\n",
        "        [12],\n",
        "        [17],\n",
        "        [16],\n",
        "        [ 7],\n",
        "        [ 7],\n",
        "        [ 7],\n",
        "        [14],\n",
        "        [17],\n",
        "        [ 3],\n",
        "        [16],\n",
        "        [17],\n",
        "        [ 5],\n",
        "        [ 9],\n",
        "        [ 2],\n",
        "        [ 4],\n",
        "        [10],\n",
        "        [16],\n",
        "        [ 3],\n",
        "        [ 9],\n",
        "        [ 9],\n",
        "        [ 5],\n",
        "        [ 4],\n",
        "        [13],\n",
        "        [ 7],\n",
        "        [ 5],\n",
        "        [14],\n",
        "        [ 7],\n",
        "        [16],\n",
        "        [ 8],\n",
        "        [18],\n",
        "        [17],\n",
        "        [ 9],\n",
        "        [14],\n",
        "        [12],\n",
        "        [ 4],\n",
        "        [12],\n",
        "        [14],\n",
        "        [12],\n",
        "        [17],\n",
        "        [ 7],\n",
        "        [ 6],\n",
        "        [12],\n",
        "        [ 7],\n",
        "        [16],\n",
        "        [ 9],\n",
        "        [ 7],\n",
        "        [14],\n",
        "        [17],\n",
        "        [ 2],\n",
        "        [13],\n",
        "        [15],\n",
        "        [12],\n",
        "        [14],\n",
        "        [12],\n",
        "        [12],\n",
        "        [17],\n",
        "        [12],\n",
        "        [ 6],\n",
        "        [13],\n",
        "        [14],\n",
        "        [ 9],\n",
        "        [ 8],\n",
        "        [ 7],\n",
        "        [ 7],\n",
        "        [12],\n",
        "        [16],\n",
        "        [ 5],\n",
        "        [ 7],\n",
        "        [10],\n",
        "        [ 4],\n",
        "        [11],\n",
        "        [ 7],\n",
        "        [ 5],\n",
        "        [ 6],\n",
        "        [ 8],\n",
        "        [12],\n",
        "        [ 8],\n",
        "        [ 7],\n",
        "        [15],\n",
        "        [16],\n",
        "        [17],\n",
        "        [17],\n",
        "        [10],\n",
        "        [16],\n",
        "        [ 6],\n",
        "        [ 9],\n",
        "        [ 7],\n",
        "        [12],\n",
        "        [16],\n",
        "        [12],\n",
        "        [15],\n",
        "        [18],\n",
        "        [ 9],\n",
        "        [ 3],\n",
        "        [13],\n",
        "        [16],\n",
        "        [ 4],\n",
        "        [18],\n",
        "        [12],\n",
        "        [ 7],\n",
        "        [ 9],\n",
        "        [11],\n",
        "        [17],\n",
        "        [13],\n",
        "        [ 6],\n",
        "        [ 9],\n",
        "        [ 3],\n",
        "        [17],\n",
        "        [ 9],\n",
        "        [ 7],\n",
        "        [14],\n",
        "        [18],\n",
        "        [ 2],\n",
        "        [15],\n",
        "        [16],\n",
        "        [12],\n",
        "        [ 4],\n",
        "        [12],\n",
        "        [14],\n",
        "        [12],\n",
        "        [16],\n",
        "        [14],\n",
        "        [ 9],\n",
        "        [12],\n",
        "        [ 4],\n",
        "        [ 8],\n",
        "        [17],\n",
        "        [11],\n",
        "        [11],\n",
        "        [12],\n",
        "        [ 7],\n",
        "        [ 7],\n",
        "        [ 7],\n",
        "        [14],\n",
        "        [ 7],\n",
        "        [17],\n",
        "        [14],\n",
        "        [ 7],\n",
        "        [ 7],\n",
        "        [ 8],\n",
        "        [ 2],\n",
        "        [16],\n",
        "        [10],\n",
        "        [10],\n",
        "        [12],\n",
        "        [12],\n",
        "        [ 9],\n",
        "        [ 3],\n",
        "        [15],\n",
        "        [13],\n",
        "        [ 8],\n",
        "        [12],\n",
        "        [ 7],\n",
        "        [14],\n",
        "        [ 8],\n",
        "        [11],\n",
        "        [ 8],\n",
        "        [ 7],\n",
        "        [ 5],\n",
        "        [17],\n",
        "        [16],\n",
        "        [ 4],\n",
        "        [ 5],\n",
        "        [ 8],\n",
        "        [ 8],\n",
        "        [10],\n",
        "        [ 8],\n",
        "        [ 2],\n",
        "        [ 2],\n",
        "        [13],\n",
        "        [12],\n",
        "        [ 3],\n",
        "        [12],\n",
        "        [18],\n",
        "        [12],\n",
        "        [15],\n",
        "        [16],\n",
        "        [ 7],\n",
        "        [ 4],\n",
        "        [ 6],\n",
        "        [ 6],\n",
        "        [ 5],\n",
        "        [17],\n",
        "        [ 7],\n",
        "        [12],\n",
        "        [ 7],\n",
        "        [12]])}"
       ]
      }
     ],
     "prompt_number": 119
    },
    {
     "cell_type": "code",
     "collapsed": false,
     "input": [
      "len(data2['y']),len(data2['X'])"
     ],
     "language": "python",
     "metadata": {},
     "outputs": [
      {
       "metadata": {},
       "output_type": "pyout",
       "prompt_number": 85,
       "text": [
        "(223, 223)"
       ]
      }
     ],
     "prompt_number": 85
    },
    {
     "cell_type": "code",
     "collapsed": false,
     "input": [
      "    data_all = pd.read_csv('Pokemon.csv')\n",
      "    #drop name,type2, generation and is_legendary\n",
      "    data = data_all.drop(data_all.columns[[1,3,4,11,12]],axis=1)\n",
      "    #now to remove duplicate entries i.e entries with same id\n",
      "    data = data.drop_duplicates(data.columns[[0]])\n",
      "    #set index as the  Pokemon id\n",
      "    data = data.set_index(['#'])\n",
      "    #after viewing dataset only got 3 points for flying points so decide to remove one since it had primary type as\n",
      "    #flying and had no other type i.e tornodus, where as the other two had second type as dragon type i.e noivern\n",
      "    #noibat....ids 641, 714, 715\n",
      "    data.loc[[714,715],'Type 1'] = 'Dragon'\n",
      "    data.drop([641],inplace=True)\n"
     ],
     "language": "python",
     "metadata": {},
     "outputs": [],
     "prompt_number": 86
    },
    {
     "cell_type": "code",
     "collapsed": false,
     "input": [
      "data.head()"
     ],
     "language": "python",
     "metadata": {},
     "outputs": [
      {
       "html": [
        "<div style=\"max-width:1500px;overflow:auto;\">\n",
        "<table border=\"1\" class=\"dataframe\">\n",
        "  <thead>\n",
        "    <tr style=\"text-align: right;\">\n",
        "      <th></th>\n",
        "      <th>Type 1</th>\n",
        "      <th>HP</th>\n",
        "      <th>Attack</th>\n",
        "      <th>Defense</th>\n",
        "      <th>Sp. Atk</th>\n",
        "      <th>Sp. Def</th>\n",
        "      <th>Speed</th>\n",
        "    </tr>\n",
        "    <tr>\n",
        "      <th>#</th>\n",
        "      <th></th>\n",
        "      <th></th>\n",
        "      <th></th>\n",
        "      <th></th>\n",
        "      <th></th>\n",
        "      <th></th>\n",
        "      <th></th>\n",
        "    </tr>\n",
        "  </thead>\n",
        "  <tbody>\n",
        "    <tr>\n",
        "      <th>1</th>\n",
        "      <td>Grass</td>\n",
        "      <td>45</td>\n",
        "      <td>49</td>\n",
        "      <td>49</td>\n",
        "      <td>65</td>\n",
        "      <td>65</td>\n",
        "      <td>45</td>\n",
        "    </tr>\n",
        "    <tr>\n",
        "      <th>2</th>\n",
        "      <td>Grass</td>\n",
        "      <td>60</td>\n",
        "      <td>62</td>\n",
        "      <td>63</td>\n",
        "      <td>80</td>\n",
        "      <td>80</td>\n",
        "      <td>60</td>\n",
        "    </tr>\n",
        "    <tr>\n",
        "      <th>3</th>\n",
        "      <td>Grass</td>\n",
        "      <td>80</td>\n",
        "      <td>82</td>\n",
        "      <td>83</td>\n",
        "      <td>100</td>\n",
        "      <td>100</td>\n",
        "      <td>80</td>\n",
        "    </tr>\n",
        "    <tr>\n",
        "      <th>4</th>\n",
        "      <td>Fire</td>\n",
        "      <td>39</td>\n",
        "      <td>52</td>\n",
        "      <td>43</td>\n",
        "      <td>60</td>\n",
        "      <td>50</td>\n",
        "      <td>65</td>\n",
        "    </tr>\n",
        "    <tr>\n",
        "      <th>5</th>\n",
        "      <td>Fire</td>\n",
        "      <td>58</td>\n",
        "      <td>64</td>\n",
        "      <td>58</td>\n",
        "      <td>80</td>\n",
        "      <td>65</td>\n",
        "      <td>80</td>\n",
        "    </tr>\n",
        "  </tbody>\n",
        "</table>\n",
        "</div>"
       ],
       "metadata": {},
       "output_type": "pyout",
       "prompt_number": 87,
       "text": [
        "  Type 1  HP  Attack  Defense  Sp. Atk  Sp. Def  Speed\n",
        "#                                                     \n",
        "1  Grass  45      49       49       65       65     45\n",
        "2  Grass  60      62       63       80       80     60\n",
        "3  Grass  80      82       83      100      100     80\n",
        "4   Fire  39      52       43       60       50     65\n",
        "5   Fire  58      64       58       80       65     80"
       ]
      }
     ],
     "prompt_number": 87
    },
    {
     "cell_type": "code",
     "collapsed": false,
     "input": [
      "data.mean()"
     ],
     "language": "python",
     "metadata": {},
     "outputs": [
      {
       "metadata": {},
       "output_type": "pyout",
       "prompt_number": 93,
       "text": [
        "HP         68.365278\n",
        "Attack     75.069444\n",
        "Defense    70.698611\n",
        "Sp. Atk    68.770833\n",
        "Sp. Def    69.165278\n",
        "Speed      65.651389\n",
        "dtype: float64"
       ]
      }
     ],
     "prompt_number": 93
    },
    {
     "cell_type": "code",
     "collapsed": false,
     "input": [
      "data['HP']"
     ],
     "language": "python",
     "metadata": {},
     "outputs": [
      {
       "metadata": {},
       "output_type": "pyout",
       "prompt_number": 94,
       "text": [
        "#\n",
        "1       45\n",
        "2       60\n",
        "3       80\n",
        "4       39\n",
        "5       58\n",
        "6       78\n",
        "7       44\n",
        "8       59\n",
        "9       79\n",
        "10      45\n",
        "11      50\n",
        "12      60\n",
        "13      40\n",
        "14      45\n",
        "15      65\n",
        "16      40\n",
        "17      63\n",
        "18      83\n",
        "19      30\n",
        "20      55\n",
        "21      40\n",
        "22      65\n",
        "23      35\n",
        "24      60\n",
        "25      35\n",
        "26      60\n",
        "27      50\n",
        "28      75\n",
        "29      55\n",
        "30      70\n",
        "      ... \n",
        "692     50\n",
        "693     71\n",
        "694     44\n",
        "695     62\n",
        "696     58\n",
        "697     82\n",
        "698     77\n",
        "699    123\n",
        "700     95\n",
        "701     78\n",
        "702     67\n",
        "703     50\n",
        "704     45\n",
        "705     68\n",
        "706     90\n",
        "707     57\n",
        "708     43\n",
        "709     85\n",
        "710     49\n",
        "711     65\n",
        "712     55\n",
        "713     95\n",
        "714     40\n",
        "715     85\n",
        "716    126\n",
        "717    126\n",
        "718    108\n",
        "719     50\n",
        "720     80\n",
        "721     80\n",
        "Name: HP, dtype: int64"
       ]
      }
     ],
     "prompt_number": 94
    },
    {
     "cell_type": "code",
     "collapsed": false,
     "input": [
      "t"
     ],
     "language": "python",
     "metadata": {},
     "outputs": [
      {
       "metadata": {},
       "output_type": "pyout",
       "prompt_number": 96,
       "text": [
        "array([[1, 2, 3, 4],\n",
        "       [4, 5, 5, 7],\n",
        "       [6, 6, 7, 5]])"
       ]
      }
     ],
     "prompt_number": 96
    },
    {
     "cell_type": "code",
     "collapsed": false,
     "input": [
      "print np.sort(t,axis=0)"
     ],
     "language": "python",
     "metadata": {},
     "outputs": [
      {
       "output_type": "stream",
       "stream": "stdout",
       "text": [
        "[[1 2 3 4]\n",
        " [4 5 5 7]\n",
        " [5 6 6 7]]\n"
       ]
      }
     ],
     "prompt_number": 109
    },
    {
     "cell_type": "code",
     "collapsed": false,
     "input": [
      "t\n"
     ],
     "language": "python",
     "metadata": {},
     "outputs": [
      {
       "metadata": {},
       "output_type": "pyout",
       "prompt_number": 110,
       "text": [
        "array([[1, 2, 3, 4],\n",
        "       [4, 5, 5, 7],\n",
        "       [5, 6, 6, 7]])"
       ]
      }
     ],
     "prompt_number": 110
    },
    {
     "cell_type": "code",
     "collapsed": false,
     "input": [
      "t[:,:2]"
     ],
     "language": "python",
     "metadata": {},
     "outputs": [
      {
       "metadata": {},
       "output_type": "pyout",
       "prompt_number": 112,
       "text": [
        "array([[1, 2],\n",
        "       [4, 5],\n",
        "       [5, 6]])"
       ]
      }
     ],
     "prompt_number": 112
    },
    {
     "cell_type": "code",
     "collapsed": false,
     "input": [
      "(np.random.random(size = 100)-0.5)*0.25"
     ],
     "language": "python",
     "metadata": {},
     "outputs": [
      {
       "metadata": {},
       "output_type": "pyout",
       "prompt_number": 117,
       "text": [
        "array([ 0.01249661, -0.07305361, -0.00821455, -0.11538271,  0.06053516,\n",
        "       -0.11620939, -0.1065668 , -0.02155432,  0.03881947,  0.01539346,\n",
        "        0.1115699 ,  0.05884515,  0.00732467, -0.11837479,  0.0931235 ,\n",
        "        0.03066145,  0.07853945, -0.04898942,  0.11896944, -0.04114394,\n",
        "       -0.08602899,  0.09986203, -0.06929094,  0.10411973, -0.02711084,\n",
        "       -0.10895559,  0.02330095,  0.09646187,  0.04870545,  0.04326327,\n",
        "       -0.11913443, -0.02781364,  0.03036661, -0.10785864, -0.06116427,\n",
        "       -0.0270769 , -0.06399943, -0.07683386, -0.00979986,  0.04570965,\n",
        "       -0.04459634,  0.12182591,  0.0116202 ,  0.03527828, -0.01836732,\n",
        "       -0.07272209, -0.09064442,  0.01194769, -0.07639679,  0.02466847,\n",
        "        0.00707033, -0.07015229, -0.06324576, -0.02248023,  0.08823954,\n",
        "        0.0214818 ,  0.03158162, -0.07844559,  0.09321527,  0.08567684,\n",
        "        0.08692521,  0.00764733, -0.02230394, -0.00675242,  0.01985012,\n",
        "        0.03652297,  0.12218949, -0.09045582, -0.03183881,  0.10460589,\n",
        "       -0.11296595,  0.11460083, -0.02386316, -0.06795247,  0.01708126,\n",
        "        0.01249404,  0.08249192, -0.02033435, -0.11860589,  0.05042829,\n",
        "       -0.09769485, -0.08376642,  0.08692438, -0.00257806, -0.12393466,\n",
        "        0.1135003 ,  0.03845504,  0.10975134,  0.10810874, -0.03679812,\n",
        "       -0.04570472, -0.06505953, -0.12031881, -0.01197013, -0.0436663 ,\n",
        "       -0.09800159,  0.05684886, -0.03740197,  0.02202155, -0.01695986])"
       ]
      }
     ],
     "prompt_number": 117
    },
    {
     "cell_type": "code",
     "collapsed": false,
     "input": [
      "np.random.randn(100)"
     ],
     "language": "python",
     "metadata": {},
     "outputs": [
      {
       "metadata": {},
       "output_type": "pyout",
       "prompt_number": 118,
       "text": [
        "array([-1.15234977, -0.49976439, -0.47109681,  1.03614735, -2.10388179,\n",
        "        0.10280614,  0.44278943,  0.33899389,  0.2799701 , -1.23170839,\n",
        "        0.39231089, -0.70216247, -0.37244365,  1.46907591, -1.71862606,\n",
        "        0.85576593, -0.80410711,  0.50116659,  0.05881736, -0.42635486,\n",
        "       -0.98629014,  0.68691925, -0.30173795, -0.9629734 , -0.40353503,\n",
        "       -0.23442896,  1.10573052, -0.6314766 , -1.1714431 , -0.26800902,\n",
        "       -2.21612585, -0.97209063,  0.11002255, -0.10814454,  1.59451873,\n",
        "       -0.01924636,  1.86700945,  0.2683335 ,  0.54547637, -0.46504841,\n",
        "       -1.14848993, -0.967333  ,  1.07005993, -1.36313643,  1.00319397,\n",
        "       -0.55628168,  1.80197895,  0.10055235, -1.0143997 ,  0.10401439,\n",
        "        2.24175939, -1.72545672,  1.1368732 , -0.01503502, -0.12715678,\n",
        "       -0.53888643, -1.53082402, -0.91163081,  1.19510728, -1.26894282,\n",
        "       -0.26132321, -0.93418851,  1.16861032,  0.29262377,  0.32610131,\n",
        "        1.96090103,  0.87455759, -1.11945663,  0.20773411,  0.10582445,\n",
        "        1.02088564, -0.07547084, -0.41022138, -2.50799731, -1.34734573,\n",
        "       -0.37865104,  1.47936171,  0.97891207, -1.0884203 ,  0.06877246,\n",
        "       -0.19108637,  1.44489031, -0.29022831,  2.08848748,  0.73175494,\n",
        "        0.3203454 ,  0.82862861, -0.13705603,  1.28662462,  1.04067508,\n",
        "        0.93566346,  0.1930514 , -0.07448535,  1.25548165,  0.08370622,\n",
        "       -0.34198139, -0.45391589,  1.41141671, -0.09779729, -0.72482026])"
       ]
      }
     ],
     "prompt_number": 118
    },
    {
     "cell_type": "code",
     "collapsed": false,
     "input": [
      "h=np.random.random((5,6))\n",
      "h"
     ],
     "language": "python",
     "metadata": {},
     "outputs": [
      {
       "metadata": {},
       "output_type": "pyout",
       "prompt_number": 123,
       "text": [
        "array([[ 0.99397614,  0.60724882,  0.99459541,  0.45459109,  0.40773697,\n",
        "         0.46980824],\n",
        "       [ 0.28868909,  0.01809058,  0.108869  ,  0.09220945,  0.96260574,\n",
        "         0.92972719],\n",
        "       [ 0.46879384,  0.71647383,  0.28908698,  0.3673243 ,  0.52128568,\n",
        "         0.31293195],\n",
        "       [ 0.65733803,  0.69999633,  0.34111497,  0.47035835,  0.79678511,\n",
        "         0.47195541],\n",
        "       [ 0.77219958,  0.58476171,  0.51745215,  0.6442119 ,  0.48732913,\n",
        "         0.78202897]])"
       ]
      }
     ],
     "prompt_number": 123
    },
    {
     "cell_type": "code",
     "collapsed": false,
     "input": [
      "np.sort(h)"
     ],
     "language": "python",
     "metadata": {},
     "outputs": [
      {
       "metadata": {},
       "output_type": "pyout",
       "prompt_number": 124,
       "text": [
        "array([[ 0.40773697,  0.45459109,  0.46980824,  0.60724882,  0.99397614,\n",
        "         0.99459541],\n",
        "       [ 0.01809058,  0.09220945,  0.108869  ,  0.28868909,  0.92972719,\n",
        "         0.96260574],\n",
        "       [ 0.28908698,  0.31293195,  0.3673243 ,  0.46879384,  0.52128568,\n",
        "         0.71647383],\n",
        "       [ 0.34111497,  0.47035835,  0.47195541,  0.65733803,  0.69999633,\n",
        "         0.79678511],\n",
        "       [ 0.48732913,  0.51745215,  0.58476171,  0.6442119 ,  0.77219958,\n",
        "         0.78202897]])"
       ]
      }
     ],
     "prompt_number": 124
    },
    {
     "cell_type": "code",
     "collapsed": false,
     "input": [
      "np.argsort(h,axis=1)"
     ],
     "language": "python",
     "metadata": {},
     "outputs": [
      {
       "metadata": {},
       "output_type": "pyout",
       "prompt_number": 126,
       "text": [
        "array([[4, 3, 5, 1, 0, 2],\n",
        "       [1, 3, 2, 0, 5, 4],\n",
        "       [2, 5, 3, 0, 4, 1],\n",
        "       [2, 3, 5, 0, 1, 4],\n",
        "       [4, 2, 1, 3, 0, 5]])"
       ]
      }
     ],
     "prompt_number": 126
    },
    {
     "cell_type": "code",
     "collapsed": false,
     "input": [],
     "language": "python",
     "metadata": {},
     "outputs": []
    }
   ],
   "metadata": {}
  }
 ]
}